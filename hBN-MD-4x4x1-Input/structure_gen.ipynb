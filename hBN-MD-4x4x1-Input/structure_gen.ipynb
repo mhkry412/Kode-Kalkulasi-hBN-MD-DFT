version https://git-lfs.github.com/spec/v1
oid sha256:58aa7729620b812bb1125494d18cde800ca682737153fd317e5b78da9a4f404a
size 12747
